{
 "cells": [
  {
   "cell_type": "code",
   "execution_count": 13,
   "metadata": {},
   "outputs": [],
   "source": [
    "import numpy as np\n",
    "import matplotlib.pyplot as plt\n",
    "from sklearn.datasets import load_iris\n",
    "from sklearn.utils import shuffle\n",
    "from sklearn.model_selection import train_test_split"
   ]
  },
  {
   "cell_type": "markdown",
   "metadata": {},
   "source": [
    "# Define the necessary functions"
   ]
  },
  {
   "cell_type": "code",
   "execution_count": 17,
   "metadata": {},
   "outputs": [],
   "source": [
    "def one_hot_encode(y, n):\n",
    "    one_hot = np.zeros((y.shape[0], n))\n",
    "    one_hot[np.arange(y.shape[0]), y] = 1\n",
    "    return one_hot\n",
    "\n",
    "def sigmoid(x):\n",
    "    return 1/(1 + np.exp(-x))\n",
    "\n",
    "def softmax(x):\n",
    "    temp = np.exp(x)\n",
    "    sums = temp.sum(axis=1, keepdims=True)\n",
    "    softout = temp/sums\n",
    "    return(softout)\n",
    "\n",
    "def cross_entropy(pred, labels):\n",
    "    N = labels.shape[0]\n",
    "    e = 1e-6\n",
    "    loss = 1/N * (labels * np.log(pred + e)).sum()\n",
    "    return loss\n",
    "\n",
    "def accuracy(pred, labels):\n",
    "    return np.mean(pred.argmax(axis=1).reshape(-1, 1) == labels)"
   ]
  },
  {
   "cell_type": "markdown",
   "metadata": {},
   "source": [
    "# Load the dataset"
   ]
  },
  {
   "cell_type": "code",
   "execution_count": 3,
   "metadata": {},
   "outputs": [],
   "source": [
    "X, y = load_iris(return_X_y=True)\n",
    "y = y.reshape(-1, 1)"
   ]
  },
  {
   "cell_type": "markdown",
   "metadata": {},
   "source": [
    "# Shuffling the dataset and splitting the data into test and train set"
   ]
  },
  {
   "cell_type": "code",
   "execution_count": 4,
   "metadata": {},
   "outputs": [
    {
     "data": {
      "text/plain": [
       "((120, 4), (30, 4))"
      ]
     },
     "execution_count": 4,
     "metadata": {},
     "output_type": "execute_result"
    }
   ],
   "source": [
    "X, y = shuffle(X, y) # Shuffle the data\n",
    "x_train, x_test, y_train, y_test = train_test_split(X, y, test_size=0.2) # Split the data into train, test sets\n",
    "x_train.shape, x_test.shape"
   ]
  },
  {
   "cell_type": "markdown",
   "metadata": {},
   "source": [
    "# We need to encode to labels into one-hot vectors"
   ]
  },
  {
   "cell_type": "code",
   "execution_count": 5,
   "metadata": {},
   "outputs": [],
   "source": [
    "Y = one_hot_encode(y_train, 3)"
   ]
  },
  {
   "cell_type": "markdown",
   "metadata": {},
   "source": [
    "# Define the model parameters"
   ]
  },
  {
   "cell_type": "code",
   "execution_count": 6,
   "metadata": {},
   "outputs": [],
   "source": [
    "learning_rate = 0.001\n",
    "INPUT_LAYERS = 4\n",
    "HIDDEN_LAYERS = 12\n",
    "OUTPUT_LAYERS = 3\n",
    "W1 = np.random.randn(INPUT_LAYERS,HIDDEN_LAYERS)\n",
    "B1 = np.zeros((1, HIDDEN_LAYERS))\n",
    "W2 = np.random.randn(HIDDEN_LAYERS, OUTPUT_LAYERS)\n",
    "B2 = np.zeros((1, OUTPUT_LAYERS))"
   ]
  },
  {
   "cell_type": "markdown",
   "metadata": {},
   "source": [
    "# Forward Propagation"
   ]
  },
  {
   "cell_type": "code",
   "execution_count": 7,
   "metadata": {},
   "outputs": [],
   "source": [
    "def forward(X, W1, B1, W2, B2):\n",
    "    Z1 = X.dot(W1) + B1\n",
    "    A1 = sigmoid(Z1)\n",
    "    Z2 = A1.dot(W2) + B2\n",
    "    A2 = softmax(Z2)\n",
    "    return Z1, A1, Z2, A2"
   ]
  },
  {
   "cell_type": "markdown",
   "metadata": {},
   "source": [
    "# Backward Propagation"
   ]
  },
  {
   "cell_type": "code",
   "execution_count": 8,
   "metadata": {},
   "outputs": [],
   "source": [
    "def backward(Z1, A1, Z2, B2):\n",
    "    d2 = A2 - Y\n",
    "    dLW2 = A1.T.dot(d2)\n",
    "    dLB2 = d2.sum(axis=0, keepdims=True)\n",
    "    dLW1 = x_train.T.dot(A1*(1-A1)*d2.dot(W2.T))\n",
    "    dLB1 = d2.dot(W2.T).sum(axis=0, keepdims=True)\n",
    "    return dLW2, dLB2, dLW1, dLB1"
   ]
  },
  {
   "cell_type": "code",
   "execution_count": 9,
   "metadata": {},
   "outputs": [
    {
     "name": "stdout",
     "output_type": "stream",
     "text": [
      "Loss: -1.5656266708204611\n",
      "Loss: -0.33859836705395596\n",
      "Loss: -0.19156033836582034\n",
      "Loss: -0.14329326006155968\n",
      "Loss: -0.1232344693925788\n",
      "Loss: -0.11287961404582912\n",
      "Loss: -0.10669205274032262\n",
      "Loss: -0.10260308882096733\n",
      "Loss: -0.09969946086539319\n",
      "Loss: -0.09752529269597439\n"
     ]
    }
   ],
   "source": [
    "for i in range(3000):\n",
    "    Z1, A1, Z2, A2 = forward(x_train, W1, B1, W2, B2)\n",
    "    \n",
    "    if i%300 == 0:\n",
    "        print(f'Loss: {cross_entropy(A2, Y)}')\n",
    "        \n",
    "    dLW2, dLB2, dLW1, dLB1 = backward(Z1, A1, Z2, A2)\n",
    "    \n",
    "    W1 = W1 - learning_rate * dLW1\n",
    "    W2 = W2 - learning_rate * dLW2\n",
    "    B1 = B1 - learning_rate * dLB1\n",
    "    B2 = B2 - learning_rate * dLB2"
   ]
  },
  {
   "cell_type": "markdown",
   "metadata": {},
   "source": [
    "# The train set accuracy"
   ]
  },
  {
   "cell_type": "code",
   "execution_count": 10,
   "metadata": {},
   "outputs": [
    {
     "data": {
      "text/plain": [
       "0.9666666666666667"
      ]
     },
     "execution_count": 10,
     "metadata": {},
     "output_type": "execute_result"
    }
   ],
   "source": [
    "accuracy(A2, y_train)"
   ]
  },
  {
   "cell_type": "markdown",
   "metadata": {},
   "source": [
    "# The test set accuracy"
   ]
  },
  {
   "cell_type": "code",
   "execution_count": 12,
   "metadata": {},
   "outputs": [
    {
     "data": {
      "text/plain": [
       "0.9666666666666667"
      ]
     },
     "execution_count": 12,
     "metadata": {},
     "output_type": "execute_result"
    }
   ],
   "source": [
    "pred = forward(x_test, W1, B1, W2, B2)[3]\n",
    "accuracy(pred, y_test)"
   ]
  }
 ],
 "metadata": {
  "kernelspec": {
   "display_name": "Python 3",
   "language": "python",
   "name": "python3"
  },
  "language_info": {
   "codemirror_mode": {
    "name": "ipython",
    "version": 3
   },
   "file_extension": ".py",
   "mimetype": "text/x-python",
   "name": "python",
   "nbconvert_exporter": "python",
   "pygments_lexer": "ipython3",
   "version": "3.6.7"
  }
 },
 "nbformat": 4,
 "nbformat_minor": 2
}
